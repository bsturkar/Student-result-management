{
 "cells": [
  {
   "cell_type": "code",
   "execution_count": 1,
   "metadata": {},
   "outputs": [],
   "source": [
    "student_info={}\n",
    "teachers_dict={}\n",
    "roll_no=0\n",
    "rankee=set()\n",
    "students_dict={}\n",
    "name_list=[]\n",
    "school_name='Sainik Public School'\n",
    "warn_mesg='WRONG ENTRY'"
   ]
  },
  {
   "cell_type": "code",
   "execution_count": null,
   "metadata": {},
   "outputs": [],
   "source": []
  },
  {
   "cell_type": "code",
   "execution_count": 2,
   "metadata": {},
   "outputs": [],
   "source": [
    "def massage(msg):\n",
    "    print(f'\\n\\n*********{msg}**********\\n\\n')"
   ]
  },
  {
   "cell_type": "code",
   "execution_count": 3,
   "metadata": {},
   "outputs": [],
   "source": [
    "def get_result():\n",
    "    header(school_name)\n",
    "    roll_no=input('Enter Students Roll no : ') \n",
    "    header(school_name)\n",
    "    global rankee\n",
    "    rankee=list(rankee)\n",
    "    if roll_no.isdigit():\n",
    "        roll_no=int(roll_no)\n",
    "        if roll_no in student_info.keys():\n",
    "            print('Name :  ',student_info[roll_no]['Name'])\n",
    "            print('Roll Number : ',roll_no,'-'*75)\n",
    "            print('English : ',student_info[roll_no]['English'])\n",
    "            print('Science : ',student_info[roll_no]['Science'])\n",
    "            print('Math    : ',student_info[roll_no]['Math'],'-'*75)\n",
    "            print('Percentage : ',student_info[roll_no]['Percentage']) \n",
    "            for i in range(len(rankee)):\n",
    "                    if student_info[roll_no]['Percentage']==rankee[i]:\n",
    "                        print('rank : ',i+1)\n",
    "        else:\n",
    "            mesg='INVALID ROLL NUMBER'\n",
    "            massage(mesg)\n",
    "    else:\n",
    "        massage(warn_mesg)"
   ]
  },
  {
   "cell_type": "code",
   "execution_count": 4,
   "metadata": {},
   "outputs": [],
   "source": [
    "def search_roll_no():\n",
    "    search_name=input('Enter the name to search : ')\n",
    "    count=0\n",
    "    for i in range (len(name_list)):\n",
    "        if search_name in name_list[i]:\n",
    "            output_roll_no=i+1\n",
    "            print('Name                                   Roll Number')\n",
    "            print(name_list[i],'                           ',output_roll_no)\n",
    "            count+=1\n",
    "    if count==0:\n",
    "             mesg='NO ENTRY PRESENT WITH THIS NAME'\n",
    "             massage(mesg)"
   ]
  },
  {
   "cell_type": "code",
   "execution_count": 5,
   "metadata": {},
   "outputs": [],
   "source": [
    "def check_mark_entry(subject):\n",
    "    if subject.isdigit()==False:\n",
    "        massage(warn_mesg)\n",
    "        make_choice_for_teachers()"
   ]
  },
  {
   "cell_type": "code",
   "execution_count": 6,
   "metadata": {},
   "outputs": [],
   "source": [
    "def enter_student_info():\n",
    "    global roll_no\n",
    "    global name_list\n",
    "    global rankee\n",
    "    name=input('Enter Student Name : ')\n",
    "    if name not in name_list:\n",
    "        english=input('Enter Student English marks : ') \n",
    "        check_mark_entry(english)\n",
    "        science=input('Enter Student science marks : ')  \n",
    "        check_mark_entry(science) \n",
    "        math=input('Enter Student math marks : ')\n",
    "        check_mark_entry(math)\n",
    "        roll_no+=1\n",
    "        total=int(english)+int(science)+int(math)\n",
    "        percentage=round(total*100/300,2)\n",
    "        student_info[roll_no]={'Name':name,'English':english,\n",
    "                            'Science':science,'Math':math,'Percentage':percentage}\n",
    "        rankee=set(rankee)\n",
    "        rankee.add(percentage)\n",
    "        rankee=list(rankee)\n",
    "        rankee.sort(reverse=True)    \n",
    "        name_list.append(student_info[roll_no]['Name']) \n",
    "        with open('student_info.txt','a') as file:\n",
    "            file.write(f'{str(roll_no)},')\n",
    "            file.write(f'{name},')\n",
    "            file.write(f'{english},')\n",
    "            file.write(f'{science},')\n",
    "            file.write(f'{math},')\n",
    "            file.write(f'{str(percentage)}\\n')            \n",
    "    else: \n",
    "        mesg='STUDENT INFO ALEREADY REGISTERED'\n",
    "        massage(mesg)\n",
    "        make_choice_for_teachers()    "
   ]
  },
  {
   "cell_type": "code",
   "execution_count": 7,
   "metadata": {},
   "outputs": [],
   "source": [
    "def make_choice_for_teachers():\n",
    "    header(school_name)\n",
    "    print('1 : Get Result \\n2 : Search Roll No \\n3 : Enter student info \\n4 : Logout\\n\\n')\n",
    "    choice=input('Enter Your Choice : ')\n",
    "    if choice != '4':\n",
    "        if choice=='1':\n",
    "            log_info('teacher opted for get result')\n",
    "            get_result() \n",
    "        elif  choice=='2':\n",
    "            log_info('teacher opted for search roll number')\n",
    "            search_roll_no()   \n",
    "        elif  choice=='3':\n",
    "            log_info('teacher opted for enter student info')\n",
    "            enter_student_info()\n",
    "        else:\n",
    "            log_error('wrong input')\n",
    "            massage(warn_mesg)\n",
    "        make_choice_for_teachers()\n",
    "    else:\n",
    "        log_info('teacher logged out')\n",
    "        mesg='LOGGED OUT SUCCESFULLY -THANK YOU'\n",
    "        massage(mesg)\n",
    "        log_in()"
   ]
  },
  {
   "cell_type": "code",
   "execution_count": 8,
   "metadata": {},
   "outputs": [],
   "source": [
    "def make_choice_for_students():\n",
    "    header(school_name)\n",
    "    print('1 : Get Result \\n2 : Search Roll No \\n3 : Logout\\n\\n')\n",
    "    choice=input('Enter Your Choice : ')\n",
    "    if choice !='3':\n",
    "        if choice=='1':\n",
    "            log_info('student opted for get result')   \n",
    "            get_result()  \n",
    "        elif  choice=='2':\n",
    "            log_info('student opted for search roll number')\n",
    "            search_roll_no()    \n",
    "        else:\n",
    "            log_error('student enterd wrong input')\n",
    "            massage(warn_mesg)\n",
    "        make_choice_for_students()\n",
    "    else:\n",
    "        log_in()\n",
    "        log_info('student logged out')\n"
   ]
  },
  {
   "cell_type": "code",
   "execution_count": 9,
   "metadata": {},
   "outputs": [],
   "source": [
    "def log_in_as(dic):\n",
    "    name=input('Enter user id : ')   \n",
    "    if name in dic.keys():\n",
    "        log_info('valid user id')\n",
    "        password=input('Enter password : ')\n",
    "        if password in dic.values():\n",
    "            log_info('valid passward')\n",
    "            pass\n",
    "        else:\n",
    "            mesg='WRONG PASSWARD'\n",
    "            log_error('invalid password')\n",
    "            massage(mesg)\n",
    "            main()\n",
    "    else:\n",
    "        mesg='WRONG USER-ID'\n",
    "        log_error('invalid user id')\n",
    "        massage(mesg)\n",
    "        main()    "
   ]
  },
  {
   "cell_type": "code",
   "execution_count": 10,
   "metadata": {},
   "outputs": [],
   "source": [
    "def log_in():  \n",
    "    print('Enter your choice from below menu \\n 1 : Teachers Login\\n 2 : Students login\\n 3 : Go to home function\\n\\n\\n' )\n",
    "    logger=input('Enter Your Choice : ')\n",
    "    if logger =='1':\n",
    "        log_info('user opted for teacher log in')\n",
    "        mesg='Teachers Log In Consol'\n",
    "        header(mesg)\n",
    "        log_in_as(teachers_dict)\n",
    "        make_choice_for_teachers()          \n",
    "    elif logger=='2':\n",
    "        log_info('user opted for student log in ')\n",
    "        mesg='Students Log In Consol'\n",
    "        header(mesg)\n",
    "        log_in_as(students_dict)   \n",
    "        make_choice_for_students()\n",
    "    elif logger=='3':\n",
    "        log_info('user opted for home page')\n",
    "        main()            \n",
    "    else:\n",
    "        log_error('wrong input')\n",
    "        massage(warn_mesg)\n",
    "        main()"
   ]
  },
  {
   "cell_type": "code",
   "execution_count": 11,
   "metadata": {},
   "outputs": [],
   "source": [
    "def create_account():    \n",
    "    print('Enter your choice from below menu \\n 1 : Create Teacher Account\\n 2 : Create Students Account\\n 3 : Go to home page\\n\\n\\n' )\n",
    "    logger=input('Enter Your Choice : ')\n",
    "    if logger =='1': \n",
    "        log_info('user opted for create teacher account')\n",
    "        logger_file(teachers_dict)\n",
    "        user_credintial('teachers_cred',teachers_dict)\n",
    "    elif logger=='2':\n",
    "        log_info('user opted for create student account')\n",
    "        logger_file(students_dict)\n",
    "        user_credintial('students_cred',students_dict)\n",
    "    elif logger=='3':  \n",
    "        log_info('user opted for home page')\n",
    "        main()   \n",
    "    else:\n",
    "        log_error('wrong input')\n",
    "        massage(warn_mesg)\n",
    "    main()"
   ]
  },
  {
   "cell_type": "code",
   "execution_count": 12,
   "metadata": {},
   "outputs": [],
   "source": [
    "def user_credintial(file_name,dic):\n",
    "    with open(f'{file_name}.txt','a') as cred:\n",
    "        cred.write(f'{user_id},{passward}\\n')"
   ]
  },
  {
   "cell_type": "code",
   "execution_count": 13,
   "metadata": {},
   "outputs": [],
   "source": [
    "def header(mesg):\n",
    "    print('-'*75)\n",
    "    print(mesg.center(75))\n",
    "    print('-'*75)"
   ]
  },
  {
   "cell_type": "code",
   "execution_count": 14,
   "metadata": {},
   "outputs": [],
   "source": [
    "def logger_file(dic): \n",
    "        #global dic\n",
    "        global user_id\n",
    "        global passward\n",
    "        user_id=input('Enter user id  : ')\n",
    "        if user_id in dic.keys():\n",
    "            log_error('WARNING- USER_ID ALEAREDY PRESENT')\n",
    "            print('\\n****WARNING- USER_ID ALEAREDY PRESENT*****\\n')\n",
    "        else:    \n",
    "            passward=input('Enter password : ')\n",
    "            dic[user_id]=passward\n"
   ]
  },
  {
   "cell_type": "code",
   "execution_count": 15,
   "metadata": {},
   "outputs": [],
   "source": [
    "#MAIN PROGRAM\n",
    "def main():\n",
    "        header(school_name)\n",
    "        print('Enter your choice \\n1 : Log In\\n2 : Create an account\\n3 : Close\\n\\n')\n",
    "        account=input('Enter your choice : ')\n",
    "        if account=='1':\n",
    "            log_info('user opted for log in option')\n",
    "            log_in()\n",
    "        elif account=='2':\n",
    "            print('*'*30,'\\n\\n\\n\\n\\n')\n",
    "            log_info('user opted create account option')\n",
    "            create_account()\n",
    "        elif account=='3':\n",
    "            log_info('user closed the programm')\n",
    "            mesg='THANK YOU'\n",
    "            massage(mesg)\n",
    "        else:\n",
    "            log_error('wrong input')\n",
    "            massage(warn_mesg)\n",
    "            main()"
   ]
  },
  {
   "cell_type": "code",
   "execution_count": 16,
   "metadata": {},
   "outputs": [],
   "source": [
    "def _log(level,mesg):\n",
    "    with open('test.txt','a') as file:\n",
    "        line=f'[{level}] : {mesg} \\n'\n",
    "        file.write(line)"
   ]
  },
  {
   "cell_type": "code",
   "execution_count": 17,
   "metadata": {},
   "outputs": [],
   "source": [
    "def log_info(mesg):\n",
    "    \n",
    "    _log('INFO',mesg)"
   ]
  },
  {
   "cell_type": "code",
   "execution_count": 18,
   "metadata": {},
   "outputs": [],
   "source": [
    "def log_error(mesg):\n",
    "    _log('ERROR',mesg)"
   ]
  },
  {
   "cell_type": "code",
   "execution_count": null,
   "metadata": {},
   "outputs": [],
   "source": []
  },
  {
   "cell_type": "code",
   "execution_count": null,
   "metadata": {},
   "outputs": [
    {
     "name": "stdout",
     "output_type": "stream",
     "text": [
      "---------------------------------------------------------------------------\n",
      "                            Sainik Public School                           \n",
      "---------------------------------------------------------------------------\n",
      "Enter your choice \n",
      "1 : Log In\n",
      "2 : Create an account\n",
      "3 : Close\n",
      "\n",
      "\n",
      "Enter your choice : 2\n",
      "****************************** \n",
      "\n",
      "\n",
      "\n",
      "\n",
      "\n",
      "Enter your choice from below menu \n",
      " 1 : Create Teacher Account\n",
      " 2 : Create Students Account\n",
      " 3 : Go to home page\n",
      "\n",
      "\n",
      "\n",
      "Enter Your Choice : 1\n",
      "Enter user id  : arush\n",
      "Enter password : 123\n",
      "---------------------------------------------------------------------------\n",
      "                            Sainik Public School                           \n",
      "---------------------------------------------------------------------------\n",
      "Enter your choice \n",
      "1 : Log In\n",
      "2 : Create an account\n",
      "3 : Close\n",
      "\n",
      "\n",
      "Enter your choice : 1\n",
      "Enter your choice from below menu \n",
      " 1 : Teachers Login\n",
      " 2 : Students login\n",
      " 3 : Go to home function\n",
      "\n",
      "\n",
      "\n",
      "Enter Your Choice : 1\n",
      "---------------------------------------------------------------------------\n",
      "                           Teachers Log In Consol                          \n",
      "---------------------------------------------------------------------------\n",
      "Enter user id : arush\n",
      "Enter password : 123\n",
      "---------------------------------------------------------------------------\n",
      "                            Sainik Public School                           \n",
      "---------------------------------------------------------------------------\n",
      "1 : Get Result \n",
      "2 : Search Roll No \n",
      "3 : Enter student info \n",
      "4 : Logout\n",
      "\n",
      "\n",
      "Enter Your Choice : 3\n",
      "Enter Student Name : bhaskar\n",
      "Enter Student English marks : 90\n",
      "Enter Student science marks : 90\n",
      "Enter Student math marks : 90\n",
      "---------------------------------------------------------------------------\n",
      "                            Sainik Public School                           \n",
      "---------------------------------------------------------------------------\n",
      "1 : Get Result \n",
      "2 : Search Roll No \n",
      "3 : Enter student info \n",
      "4 : Logout\n",
      "\n",
      "\n",
      "Enter Your Choice : 1\n",
      "---------------------------------------------------------------------------\n",
      "                            Sainik Public School                           \n",
      "---------------------------------------------------------------------------\n",
      "Enter Students Roll no : 1\n",
      "---------------------------------------------------------------------------\n",
      "                            Sainik Public School                           \n",
      "---------------------------------------------------------------------------\n",
      "Name :   bhaskar\n",
      "Roll Number :  1 ---------------------------------------------------------------------------\n",
      "English :  90\n",
      "Science :  90\n",
      "Math    :  90 ---------------------------------------------------------------------------\n",
      "Percentage :  90.0\n",
      "rank :  1\n",
      "---------------------------------------------------------------------------\n",
      "                            Sainik Public School                           \n",
      "---------------------------------------------------------------------------\n",
      "1 : Get Result \n",
      "2 : Search Roll No \n",
      "3 : Enter student info \n",
      "4 : Logout\n",
      "\n",
      "\n",
      "Enter Your Choice : 2\n",
      "Enter the name to search : bhaskar\n",
      "Name                                   Roll Number\n",
      "bhaskar                             1\n",
      "---------------------------------------------------------------------------\n",
      "                            Sainik Public School                           \n",
      "---------------------------------------------------------------------------\n",
      "1 : Get Result \n",
      "2 : Search Roll No \n",
      "3 : Enter student info \n",
      "4 : Logout\n",
      "\n",
      "\n",
      "Enter Your Choice : 1\n",
      "---------------------------------------------------------------------------\n",
      "                            Sainik Public School                           \n",
      "---------------------------------------------------------------------------\n",
      "Enter Students Roll no : 2\n",
      "---------------------------------------------------------------------------\n",
      "                            Sainik Public School                           \n",
      "---------------------------------------------------------------------------\n",
      "\n",
      "\n",
      "*********INVALID ROLL NUMBER**********\n",
      "\n",
      "\n",
      "---------------------------------------------------------------------------\n",
      "                            Sainik Public School                           \n",
      "---------------------------------------------------------------------------\n",
      "1 : Get Result \n",
      "2 : Search Roll No \n",
      "3 : Enter student info \n",
      "4 : Logout\n",
      "\n",
      "\n",
      "Enter Your Choice : 2\n",
      "Enter the name to search : mm\n",
      "\n",
      "\n",
      "*********NO ENTRY PRESENT WITH THIS NAME**********\n",
      "\n",
      "\n",
      "---------------------------------------------------------------------------\n",
      "                            Sainik Public School                           \n",
      "---------------------------------------------------------------------------\n",
      "1 : Get Result \n",
      "2 : Search Roll No \n",
      "3 : Enter student info \n",
      "4 : Logout\n",
      "\n",
      "\n",
      "Enter Your Choice : 4\n",
      "\n",
      "\n",
      "*********LOGGED OUT SUCCESFULLY -THANK YOU**********\n",
      "\n",
      "\n",
      "Enter your choice from below menu \n",
      " 1 : Teachers Login\n",
      " 2 : Students login\n",
      " 3 : Go to home function\n",
      "\n",
      "\n",
      "\n",
      "Enter Your Choice : 3\n",
      "---------------------------------------------------------------------------\n",
      "                            Sainik Public School                           \n",
      "---------------------------------------------------------------------------\n",
      "Enter your choice \n",
      "1 : Log In\n",
      "2 : Create an account\n",
      "3 : Close\n",
      "\n",
      "\n"
     ]
    }
   ],
   "source": [
    "\n",
    "main()\n"
   ]
  },
  {
   "cell_type": "code",
   "execution_count": 231,
   "metadata": {},
   "outputs": [
    {
     "data": {
      "text/plain": [
       "{}"
      ]
     },
     "execution_count": 231,
     "metadata": {},
     "output_type": "execute_result"
    }
   ],
   "source": [
    "\n",
    "student_info"
   ]
  },
  {
   "cell_type": "code",
   "execution_count": null,
   "metadata": {},
   "outputs": [],
   "source": []
  },
  {
   "cell_type": "code",
   "execution_count": 232,
   "metadata": {},
   "outputs": [
    {
     "data": {
      "text/plain": [
       "{}"
      ]
     },
     "execution_count": 232,
     "metadata": {},
     "output_type": "execute_result"
    }
   ],
   "source": [
    "teachers_dict"
   ]
  },
  {
   "cell_type": "code",
   "execution_count": 233,
   "metadata": {},
   "outputs": [
    {
     "data": {
      "text/plain": [
       "{'bhaskar': '123', 'punam': '456'}"
      ]
     },
     "execution_count": 233,
     "metadata": {},
     "output_type": "execute_result"
    }
   ],
   "source": [
    "students_dict"
   ]
  },
  {
   "cell_type": "code",
   "execution_count": 234,
   "metadata": {},
   "outputs": [
    {
     "data": {
      "text/plain": [
       "[]"
      ]
     },
     "execution_count": 234,
     "metadata": {},
     "output_type": "execute_result"
    }
   ],
   "source": [
    "name_list"
   ]
  },
  {
   "cell_type": "code",
   "execution_count": 235,
   "metadata": {},
   "outputs": [
    {
     "data": {
      "text/plain": [
       "set()"
      ]
     },
     "execution_count": 235,
     "metadata": {},
     "output_type": "execute_result"
    }
   ],
   "source": [
    "rankee"
   ]
  },
  {
   "cell_type": "code",
   "execution_count": null,
   "metadata": {},
   "outputs": [],
   "source": []
  },
  {
   "cell_type": "markdown",
   "metadata": {},
   "source": [
    "# THE END"
   ]
  },
  {
   "cell_type": "code",
   "execution_count": null,
   "metadata": {},
   "outputs": [],
   "source": []
  },
  {
   "cell_type": "code",
   "execution_count": null,
   "metadata": {},
   "outputs": [],
   "source": []
  },
  {
   "cell_type": "code",
   "execution_count": 150,
   "metadata": {},
   "outputs": [],
   "source": [
    "\n",
    "with open('t.txt','a') as file:\n",
    "    #line=f'[{level}] : {mesg} \\n'\n",
    "    line='90'\n",
    "    file.write(f'{line} ,')"
   ]
  },
  {
   "cell_type": "code",
   "execution_count": 153,
   "metadata": {},
   "outputs": [],
   "source": [
    "a=32.1211"
   ]
  },
  {
   "cell_type": "code",
   "execution_count": 154,
   "metadata": {},
   "outputs": [],
   "source": [
    "b=round(a,2)"
   ]
  },
  {
   "cell_type": "code",
   "execution_count": 155,
   "metadata": {},
   "outputs": [
    {
     "data": {
      "text/plain": [
       "32.12"
      ]
     },
     "execution_count": 155,
     "metadata": {},
     "output_type": "execute_result"
    }
   ],
   "source": [
    "b"
   ]
  },
  {
   "cell_type": "code",
   "execution_count": 169,
   "metadata": {},
   "outputs": [],
   "source": [
    "def user_credintial(file_name,dic):\n",
    "    with open(f'{file_name}.txt','a') as cred:\n",
    "        cred.write(f'{dic.keys()},{dic.values()}\\n')"
   ]
  },
  {
   "cell_type": "code",
   "execution_count": 170,
   "metadata": {},
   "outputs": [],
   "source": [
    "user_credintial('nnn',students_dict)"
   ]
  },
  {
   "cell_type": "code",
   "execution_count": 247,
   "metadata": {},
   "outputs": [],
   "source": [
    "\n",
    "a=open('students_cred.txt','r')\n",
    "i='punam'"
   ]
  },
  {
   "cell_type": "code",
   "execution_count": 248,
   "metadata": {},
   "outputs": [
    {
     "name": "stdout",
     "output_type": "stream",
     "text": [
      "punam\n",
      "punam\n"
     ]
    }
   ],
   "source": [
    "if punam in a:\n",
    "    print(i)"
   ]
  },
  {
   "cell_type": "code",
   "execution_count": null,
   "metadata": {},
   "outputs": [],
   "source": []
  },
  {
   "cell_type": "code",
   "execution_count": null,
   "metadata": {},
   "outputs": [],
   "source": []
  },
  {
   "cell_type": "code",
   "execution_count": null,
   "metadata": {},
   "outputs": [],
   "source": []
  }
 ],
 "metadata": {
  "kernelspec": {
   "display_name": "Python 3",
   "language": "python",
   "name": "python3"
  },
  "language_info": {
   "codemirror_mode": {
    "name": "ipython",
    "version": 3
   },
   "file_extension": ".py",
   "mimetype": "text/x-python",
   "name": "python",
   "nbconvert_exporter": "python",
   "pygments_lexer": "ipython3",
   "version": "3.8.5"
  }
 },
 "nbformat": 4,
 "nbformat_minor": 4
}
